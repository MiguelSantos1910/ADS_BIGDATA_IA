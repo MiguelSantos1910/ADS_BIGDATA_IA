{
 "cells": [
  {
   "cell_type": "code",
   "execution_count": null,
   "id": "0f2b073f",
   "metadata": {},
   "outputs": [],
   "source": [
    "import pandas as pd"
   ]
  },
  {
   "cell_type": "code",
   "execution_count": null,
   "id": "345877b4",
   "metadata": {},
   "outputs": [],
   "source": [
    "#Dicionário\n",
    "Dicionario = {\n",
    "    'A' : [1, 2, 3],\n",
    "    'B' : [-3, -2, -1],\n",
    "    'C' : [0, 10, 20]\n",
    "}\n",
    "Label = ['1º Linha', '2º Linha', '3º Linha']\n",
    "Dataframe_01 = pd.DataFrame(Dicionario, index=Label)\n",
    "print(Dataframe_01)"
   ]
  },
  {
   "cell_type": "code",
   "execution_count": null,
   "id": "c3ec93a3",
   "metadata": {},
   "outputs": [],
   "source": [
    "Dataframe_01[['A', 'B']]"
   ]
  },
  {
   "cell_type": "code",
   "execution_count": null,
   "id": "8b2af6e9",
   "metadata": {},
   "outputs": [],
   "source": [
    "Dataframe_01['Nova Coluna'] = Dataframe_01['A']*Dataframe_01['B']"
   ]
  },
  {
   "cell_type": "code",
   "execution_count": null,
   "id": "afc7165f",
   "metadata": {},
   "outputs": [],
   "source": [
    "Dataframe_01"
   ]
  },
  {
   "cell_type": "code",
   "execution_count": null,
   "id": "cadebd46",
   "metadata": {},
   "outputs": [],
   "source": [
    "Dataframe_01"
   ]
  },
  {
   "cell_type": "code",
   "execution_count": null,
   "id": "50a46d09",
   "metadata": {},
   "outputs": [],
   "source": [
    "Dataframe_01.loc['3º Linha']"
   ]
  },
  {
   "cell_type": "code",
   "execution_count": null,
   "id": "34c0b71e",
   "metadata": {},
   "outputs": [],
   "source": [
    "Dataframe_01.loc[['1º Linha', '2º Linha'],['A', 'C']]"
   ]
  },
  {
   "cell_type": "code",
   "execution_count": null,
   "id": "20f2fa9e",
   "metadata": {},
   "outputs": [],
   "source": [
    "Dataframe_01.iloc[1:2, 0:]"
   ]
  },
  {
   "cell_type": "code",
   "execution_count": null,
   "id": "a8fdaf4d",
   "metadata": {},
   "outputs": [],
   "source": [
    "print(Dataframe_01)\n",
    "Dataframe_01 > 0"
   ]
  },
  {
   "cell_type": "code",
   "execution_count": null,
   "id": "d74ea908",
   "metadata": {},
   "outputs": [],
   "source": [
    "Filtro = Dataframe_01['C'] > 0\n",
    "Dataframe_02 = Dataframe_01[Filtro]\n",
    "Dataframe_02['A']"
   ]
  },
  {
   "cell_type": "code",
   "execution_count": null,
   "id": "473a6e6c",
   "metadata": {},
   "outputs": [],
   "source": [
    "Filtro"
   ]
  },
  {
   "cell_type": "code",
   "execution_count": null,
   "id": "74fde5e4",
   "metadata": {},
   "outputs": [],
   "source": [
    "Dataframe_01[(Dataframe_01['B'] > 5) | (Dataframe_01['C'] > 2)]"
   ]
  },
  {
   "cell_type": "code",
   "execution_count": null,
   "id": "c022ce64",
   "metadata": {},
   "outputs": [],
   "source": [
    "Dataframe_01.reset_index(inplace=True)\n"
   ]
  },
  {
   "cell_type": "code",
   "execution_count": null,
   "id": "d7f4f070",
   "metadata": {},
   "outputs": [],
   "source": [
    "Dataframe_01"
   ]
  },
  {
   "cell_type": "code",
   "execution_count": null,
   "id": "e8ef167e",
   "metadata": {},
   "outputs": [],
   "source": [
    "Dataframe_01.drop('index', axis=1, inplace=True)"
   ]
  },
  {
   "cell_type": "code",
   "execution_count": null,
   "id": "ffef1bde",
   "metadata": {},
   "outputs": [],
   "source": [
    "Dataframe_01"
   ]
  },
  {
   "cell_type": "code",
   "execution_count": null,
   "id": "4835e76d",
   "metadata": {},
   "outputs": [],
   "source": [
    "Dataframe_01.drop('level_0', axis=1, inplace=True)"
   ]
  },
  {
   "cell_type": "code",
   "execution_count": null,
   "id": "8eadb4bd",
   "metadata": {},
   "outputs": [],
   "source": [
    "Dataframe_01"
   ]
  },
  {
   "cell_type": "code",
   "execution_count": null,
   "id": "a5ad6307",
   "metadata": {},
   "outputs": [],
   "source": []
  }
 ],
 "metadata": {
  "kernelspec": {
   "display_name": "Python 3",
   "language": "python",
   "name": "python3"
  },
  "language_info": {
   "codemirror_mode": {
    "name": "ipython",
    "version": 3
   },
   "file_extension": ".py",
   "mimetype": "text/x-python",
   "name": "python",
   "nbconvert_exporter": "python",
   "pygments_lexer": "ipython3",
   "version": "3.11.8"
  }
 },
 "nbformat": 4,
 "nbformat_minor": 5
}
