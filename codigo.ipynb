{
 "cells": [
  {
   "cell_type": "code",
   "execution_count": 2,
   "id": "0f2b073f",
   "metadata": {},
   "outputs": [],
   "source": [
    "import pandas as pd"
   ]
  },
  {
   "cell_type": "code",
   "execution_count": null,
   "id": "345877b4",
   "metadata": {},
   "outputs": [],
   "source": [
    "#Dicionário\n",
    "Dicionario = {\n",
    "    'A' : [1, 2, 3],\n",
    "    'B' : [-3, -2, -1],\n",
    "    'C' : [0, 10, 20]\n",
    "}\n",
    "Label = ['1º Linha', '2º Linha', '3º Linha']\n",
    "Dataframe_01 = pd.DataFrame(Dicionario, index=Label)\n",
    "print(Dataframe_01)"
   ]
  },
  {
   "cell_type": "code",
   "execution_count": null,
   "id": "c3ec93a3",
   "metadata": {},
   "outputs": [],
   "source": [
    "Dataframe_01[['A', 'B']]"
   ]
  },
  {
   "cell_type": "code",
   "execution_count": null,
   "id": "8b2af6e9",
   "metadata": {},
   "outputs": [],
   "source": [
    "Dataframe_01['Nova Coluna'] = Dataframe_01['A']*Dataframe_01['B']"
   ]
  },
  {
   "cell_type": "code",
   "execution_count": null,
   "id": "afc7165f",
   "metadata": {},
   "outputs": [],
   "source": [
    "Dataframe_01"
   ]
  },
  {
   "cell_type": "code",
   "execution_count": null,
   "id": "cadebd46",
   "metadata": {},
   "outputs": [],
   "source": [
    "Dataframe_01"
   ]
  },
  {
   "cell_type": "code",
   "execution_count": null,
   "id": "50a46d09",
   "metadata": {},
   "outputs": [],
   "source": [
    "Dataframe_01.loc['3º Linha']"
   ]
  },
  {
   "cell_type": "code",
   "execution_count": null,
   "id": "34c0b71e",
   "metadata": {},
   "outputs": [],
   "source": [
    "Dataframe_01.loc[['1º Linha', '2º Linha'],['A', 'C']]"
   ]
  },
  {
   "cell_type": "code",
   "execution_count": null,
   "id": "20f2fa9e",
   "metadata": {},
   "outputs": [],
   "source": [
    "Dataframe_01.iloc[1:2, 0:]"
   ]
  },
  {
   "cell_type": "code",
   "execution_count": null,
   "id": "a8fdaf4d",
   "metadata": {},
   "outputs": [],
   "source": [
    "print(Dataframe_01)\n",
    "Dataframe_01 > 0"
   ]
  },
  {
   "cell_type": "code",
   "execution_count": null,
   "id": "d74ea908",
   "metadata": {},
   "outputs": [],
   "source": [
    "Filtro = Dataframe_01['C'] > 0\n",
    "Dataframe_02 = Dataframe_01[Filtro]\n",
    "Dataframe_02['A']"
   ]
  },
  {
   "cell_type": "code",
   "execution_count": null,
   "id": "473a6e6c",
   "metadata": {},
   "outputs": [],
   "source": [
    "Filtro"
   ]
  },
  {
   "cell_type": "code",
   "execution_count": null,
   "id": "74fde5e4",
   "metadata": {},
   "outputs": [],
   "source": [
    "Dataframe_01[(Dataframe_01['B'] > 5) | (Dataframe_01['C'] > 2)]"
   ]
  },
  {
   "cell_type": "code",
   "execution_count": null,
   "id": "c022ce64",
   "metadata": {},
   "outputs": [],
   "source": [
    "Dataframe_01.reset_index(inplace=True)\n"
   ]
  },
  {
   "cell_type": "code",
   "execution_count": null,
   "id": "d7f4f070",
   "metadata": {},
   "outputs": [],
   "source": [
    "Dataframe_01"
   ]
  },
  {
   "cell_type": "code",
   "execution_count": null,
   "id": "e8ef167e",
   "metadata": {},
   "outputs": [],
   "source": [
    "Dataframe_01.drop('index', axis=1, inplace=True)"
   ]
  },
  {
   "cell_type": "code",
   "execution_count": null,
   "id": "ffef1bde",
   "metadata": {},
   "outputs": [],
   "source": [
    "Dataframe_01"
   ]
  },
  {
   "cell_type": "code",
   "execution_count": null,
   "id": "4835e76d",
   "metadata": {},
   "outputs": [],
   "source": [
    "Dataframe_01.drop('level_0', axis=1, inplace=True)"
   ]
  },
  {
   "cell_type": "code",
   "execution_count": null,
   "id": "8eadb4bd",
   "metadata": {},
   "outputs": [],
   "source": [
    "Dataframe_01"
   ]
  },
  {
   "cell_type": "code",
   "execution_count": 3,
   "id": "a5ad6307",
   "metadata": {},
   "outputs": [],
   "source": [
    "disc = {\n",
    "    'A' : [1,2,4],\n",
    "    'B' : [-2,-23,90],\n",
    "    'Z' : ['A', 'FF', 'ZS']\n",
    "}\n",
    "disc2 = {\n",
    "    'ADS' : [112,232,43],\n",
    "    'BGR' : [-2321,-223,9210],\n",
    "    'LOOP' : ['AASD', 'FF', 'ZFFS']\n",
    "}\n",
    "\n",
    "label01 = ['1', '2', '3']\n",
    "dt = pd.DataFrame(disc, index=label01)\n",
    "dt2 = pd.DataFrame(disc2, index=label01)"
   ]
  },
  {
   "cell_type": "code",
   "execution_count": 5,
   "id": "bf0ecd76",
   "metadata": {},
   "outputs": [
    {
     "data": {
      "text/html": [
       "<div>\n",
       "<style scoped>\n",
       "    .dataframe tbody tr th:only-of-type {\n",
       "        vertical-align: middle;\n",
       "    }\n",
       "\n",
       "    .dataframe tbody tr th {\n",
       "        vertical-align: top;\n",
       "    }\n",
       "\n",
       "    .dataframe thead th {\n",
       "        text-align: right;\n",
       "    }\n",
       "</style>\n",
       "<table border=\"1\" class=\"dataframe\">\n",
       "  <thead>\n",
       "    <tr style=\"text-align: right;\">\n",
       "      <th></th>\n",
       "      <th>A</th>\n",
       "      <th>B</th>\n",
       "      <th>Z</th>\n",
       "      <th>ADS</th>\n",
       "      <th>BGR</th>\n",
       "      <th>LOOP</th>\n",
       "    </tr>\n",
       "  </thead>\n",
       "  <tbody>\n",
       "    <tr>\n",
       "      <th>1</th>\n",
       "      <td>1</td>\n",
       "      <td>-2</td>\n",
       "      <td>A</td>\n",
       "      <td>112</td>\n",
       "      <td>-2321</td>\n",
       "      <td>AASD</td>\n",
       "    </tr>\n",
       "    <tr>\n",
       "      <th>2</th>\n",
       "      <td>2</td>\n",
       "      <td>-23</td>\n",
       "      <td>FF</td>\n",
       "      <td>232</td>\n",
       "      <td>-223</td>\n",
       "      <td>FF</td>\n",
       "    </tr>\n",
       "    <tr>\n",
       "      <th>3</th>\n",
       "      <td>4</td>\n",
       "      <td>90</td>\n",
       "      <td>ZS</td>\n",
       "      <td>43</td>\n",
       "      <td>9210</td>\n",
       "      <td>ZFFS</td>\n",
       "    </tr>\n",
       "  </tbody>\n",
       "</table>\n",
       "</div>"
      ],
      "text/plain": [
       "   A   B   Z  ADS   BGR  LOOP\n",
       "1  1  -2   A  112 -2321  AASD\n",
       "2  2 -23  FF  232  -223    FF\n",
       "3  4  90  ZS   43  9210  ZFFS"
      ]
     },
     "execution_count": 5,
     "metadata": {},
     "output_type": "execute_result"
    }
   ],
   "source": [
    "dt.join(dt2)"
   ]
  }
 ],
 "metadata": {
  "kernelspec": {
   "display_name": "Python 3",
   "language": "python",
   "name": "python3"
  },
  "language_info": {
   "codemirror_mode": {
    "name": "ipython",
    "version": 3
   },
   "file_extension": ".py",
   "mimetype": "text/x-python",
   "name": "python",
   "nbconvert_exporter": "python",
   "pygments_lexer": "ipython3",
   "version": "3.13.1"
  }
 },
 "nbformat": 4,
 "nbformat_minor": 5
}
